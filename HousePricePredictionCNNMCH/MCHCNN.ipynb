{
 "cells": [
  {
   "cell_type": "code",
   "execution_count": 1,
   "metadata": {},
   "outputs": [],
   "source": [
    "import cv2\n",
    "import numpy as np\n",
    "import pandas as pd\n",
    "from sklearn.preprocessing import StandardScaler, LabelBinarizer\n",
    "from sklearn.model_selection import train_test_split\n",
    "import os\n",
    "import glob\n",
    "import matplotlib.pyplot as plt"
   ]
  },
  {
   "cell_type": "code",
   "execution_count": 2,
   "metadata": {},
   "outputs": [],
   "source": [
    "data = pd.read_csv('HousesDataset/HousesInfo.txt', header=None, sep=' ', names=['bedrooms', 'bathrooms', 'area', 'zipcode', 'price'])"
   ]
  },
  {
   "cell_type": "code",
   "execution_count": 3,
   "metadata": {},
   "outputs": [
    {
     "data": {
      "text/html": [
       "<div>\n",
       "<style scoped>\n",
       "    .dataframe tbody tr th:only-of-type {\n",
       "        vertical-align: middle;\n",
       "    }\n",
       "\n",
       "    .dataframe tbody tr th {\n",
       "        vertical-align: top;\n",
       "    }\n",
       "\n",
       "    .dataframe thead th {\n",
       "        text-align: right;\n",
       "    }\n",
       "</style>\n",
       "<table border=\"1\" class=\"dataframe\">\n",
       "  <thead>\n",
       "    <tr style=\"text-align: right;\">\n",
       "      <th></th>\n",
       "      <th>bedrooms</th>\n",
       "      <th>bathrooms</th>\n",
       "      <th>area</th>\n",
       "      <th>zipcode</th>\n",
       "      <th>price</th>\n",
       "    </tr>\n",
       "  </thead>\n",
       "  <tbody>\n",
       "    <tr>\n",
       "      <th>0</th>\n",
       "      <td>4</td>\n",
       "      <td>4.0</td>\n",
       "      <td>4053</td>\n",
       "      <td>85255</td>\n",
       "      <td>869500</td>\n",
       "    </tr>\n",
       "    <tr>\n",
       "      <th>1</th>\n",
       "      <td>4</td>\n",
       "      <td>3.0</td>\n",
       "      <td>3343</td>\n",
       "      <td>36372</td>\n",
       "      <td>865200</td>\n",
       "    </tr>\n",
       "    <tr>\n",
       "      <th>2</th>\n",
       "      <td>3</td>\n",
       "      <td>4.0</td>\n",
       "      <td>3923</td>\n",
       "      <td>85266</td>\n",
       "      <td>889000</td>\n",
       "    </tr>\n",
       "    <tr>\n",
       "      <th>3</th>\n",
       "      <td>5</td>\n",
       "      <td>5.0</td>\n",
       "      <td>4022</td>\n",
       "      <td>85262</td>\n",
       "      <td>910000</td>\n",
       "    </tr>\n",
       "    <tr>\n",
       "      <th>4</th>\n",
       "      <td>3</td>\n",
       "      <td>4.0</td>\n",
       "      <td>4116</td>\n",
       "      <td>85266</td>\n",
       "      <td>971226</td>\n",
       "    </tr>\n",
       "    <tr>\n",
       "      <th>...</th>\n",
       "      <td>...</td>\n",
       "      <td>...</td>\n",
       "      <td>...</td>\n",
       "      <td>...</td>\n",
       "      <td>...</td>\n",
       "    </tr>\n",
       "    <tr>\n",
       "      <th>530</th>\n",
       "      <td>5</td>\n",
       "      <td>2.0</td>\n",
       "      <td>2066</td>\n",
       "      <td>94531</td>\n",
       "      <td>399900</td>\n",
       "    </tr>\n",
       "    <tr>\n",
       "      <th>531</th>\n",
       "      <td>4</td>\n",
       "      <td>3.5</td>\n",
       "      <td>9536</td>\n",
       "      <td>94531</td>\n",
       "      <td>460000</td>\n",
       "    </tr>\n",
       "    <tr>\n",
       "      <th>532</th>\n",
       "      <td>3</td>\n",
       "      <td>2.0</td>\n",
       "      <td>2014</td>\n",
       "      <td>94531</td>\n",
       "      <td>407000</td>\n",
       "    </tr>\n",
       "    <tr>\n",
       "      <th>533</th>\n",
       "      <td>4</td>\n",
       "      <td>3.0</td>\n",
       "      <td>2312</td>\n",
       "      <td>94531</td>\n",
       "      <td>419000</td>\n",
       "    </tr>\n",
       "    <tr>\n",
       "      <th>534</th>\n",
       "      <td>5</td>\n",
       "      <td>3.0</td>\n",
       "      <td>3796</td>\n",
       "      <td>94531</td>\n",
       "      <td>615000</td>\n",
       "    </tr>\n",
       "  </tbody>\n",
       "</table>\n",
       "<p>535 rows × 5 columns</p>\n",
       "</div>"
      ],
      "text/plain": [
       "     bedrooms  bathrooms  area  zipcode   price\n",
       "0           4        4.0  4053    85255  869500\n",
       "1           4        3.0  3343    36372  865200\n",
       "2           3        4.0  3923    85266  889000\n",
       "3           5        5.0  4022    85262  910000\n",
       "4           3        4.0  4116    85266  971226\n",
       "..        ...        ...   ...      ...     ...\n",
       "530         5        2.0  2066    94531  399900\n",
       "531         4        3.5  9536    94531  460000\n",
       "532         3        2.0  2014    94531  407000\n",
       "533         4        3.0  2312    94531  419000\n",
       "534         5        3.0  3796    94531  615000\n",
       "\n",
       "[535 rows x 5 columns]"
      ]
     },
     "execution_count": 3,
     "metadata": {},
     "output_type": "execute_result"
    }
   ],
   "source": [
    "data"
   ]
  },
  {
   "cell_type": "code",
   "execution_count": 4,
   "metadata": {
    "scrolled": true
   },
   "outputs": [
    {
     "data": {
      "text/plain": [
       "array([  1,   2,   3,   4,   5,   6,   7,   8,   9,  10,  11,  12,  13,\n",
       "        14,  15,  16,  17,  18,  19,  20,  21,  22,  23,  24,  25,  26,\n",
       "        27,  28,  29,  30,  31,  32,  33,  34,  35,  36,  37,  38,  39,\n",
       "        40,  41,  42,  43,  44,  45,  46,  47,  48,  49,  50,  51,  52,\n",
       "        53,  54,  55,  56,  57,  58,  59,  60,  61,  62,  63,  64,  65,\n",
       "        66,  67,  68,  69,  70,  71,  72,  73,  74,  75,  76,  77,  78,\n",
       "        79,  80,  81,  82,  83,  84,  85,  86,  87,  88,  89,  90,  91,\n",
       "        92,  93,  94,  95,  96,  97,  98,  99, 100, 101, 102, 103, 104,\n",
       "       105, 106, 107, 108, 109, 110, 111, 112, 113, 114, 115, 116, 117,\n",
       "       118, 119, 120, 121, 122, 123, 124, 125, 126, 127, 128, 129, 130,\n",
       "       131, 132, 133, 134, 135, 136, 137, 138, 139, 140, 141, 142, 143,\n",
       "       144, 145, 146, 147, 148, 149, 150, 151, 152, 153, 154, 155, 156,\n",
       "       157, 158, 159, 160, 161, 162, 163, 164, 165, 166, 167, 168, 169,\n",
       "       170, 171, 172, 173, 174, 175, 176, 177, 178, 179, 180, 181, 182,\n",
       "       183, 184, 185, 186, 187, 188, 189, 190, 191, 192, 193, 194, 195,\n",
       "       196, 197, 198, 199, 200, 201, 202, 203, 204, 205, 206, 207, 208,\n",
       "       209, 210, 211, 212, 213, 214, 215, 216, 217, 218, 219, 220, 221,\n",
       "       222, 223, 224, 225, 226, 227, 228, 229, 230, 231, 232, 233, 234,\n",
       "       235, 236, 237, 238, 239, 240, 241, 242, 243, 244, 245, 246, 247,\n",
       "       248, 249, 250, 251, 252, 253, 254, 255, 256, 257, 258, 259, 260,\n",
       "       261, 262, 263, 264, 265, 266, 267, 268, 269, 270, 271, 272, 273,\n",
       "       274, 275, 276, 277, 278, 279, 280, 281, 282, 283, 284, 285, 286,\n",
       "       287, 288, 289, 290, 291, 292, 293, 294, 295, 296, 297, 298, 299,\n",
       "       300, 301, 302, 303, 304, 305, 306, 307, 308, 309, 310, 311, 312,\n",
       "       313, 314, 315, 316, 317, 318, 319, 320, 321, 322, 323, 324, 325,\n",
       "       326, 327, 328, 329, 330, 331, 332, 333, 334, 335, 336, 337, 338,\n",
       "       339, 340, 341, 342, 343, 344, 345, 346, 347, 348, 349, 350, 351,\n",
       "       352, 353, 354, 355, 356, 357, 358, 359, 360, 361, 362, 363, 364,\n",
       "       365, 366, 367, 368, 369, 370, 371, 372, 373, 374, 375, 376, 377,\n",
       "       378, 379, 380, 381, 382, 383, 384, 385, 386, 387, 388, 389, 390,\n",
       "       391, 392, 393, 394, 395, 396, 397, 398, 399, 400, 401, 402, 403,\n",
       "       404, 405, 406, 407, 408, 409, 410, 411, 412, 413, 414, 415, 416,\n",
       "       417, 418, 419, 420, 421, 422, 423, 424, 425, 426, 427, 428, 429,\n",
       "       430, 431, 432, 433, 434, 435, 436, 437, 438, 439, 440, 441, 442,\n",
       "       443, 444, 445, 446, 447, 448, 449, 450, 451, 452, 453, 454, 455,\n",
       "       456, 457, 458, 459, 460, 461, 462, 463, 464, 465, 466, 467, 468,\n",
       "       469, 470, 471, 472, 473, 474, 475, 476, 477, 478, 479, 480, 481,\n",
       "       482, 483, 484, 485, 486, 487, 488, 489, 490, 491, 492, 493, 494,\n",
       "       495, 496, 497, 498, 499, 500, 501, 502, 503, 504, 505, 506, 507,\n",
       "       508, 509, 510, 511, 512, 513, 514, 515, 516, 517, 518, 519, 520,\n",
       "       521, 522, 523, 524, 525, 526, 527, 528, 529, 530, 531, 532, 533,\n",
       "       534, 535], dtype=int64)"
      ]
     },
     "execution_count": 4,
     "metadata": {},
     "output_type": "execute_result"
    }
   ],
   "source": [
    "data.index.values + 1"
   ]
  },
  {
   "cell_type": "code",
   "execution_count": 5,
   "metadata": {},
   "outputs": [
    {
     "data": {
      "text/plain": [
       "['HousesDataset\\\\1_bathroom.jpg',\n",
       " 'HousesDataset\\\\1_bedroom.jpg',\n",
       " 'HousesDataset\\\\1_frontal.jpg',\n",
       " 'HousesDataset\\\\1_kitchen.jpg']"
      ]
     },
     "execution_count": 5,
     "metadata": {},
     "output_type": "execute_result"
    }
   ],
   "source": [
    "sorted(list(glob.glob(os.path.sep.join(['HousesDataset', \"1_*\".format(1)]))))"
   ]
  },
  {
   "cell_type": "code",
   "execution_count": 6,
   "metadata": {},
   "outputs": [
    {
     "data": {
      "text/plain": [
       "(4, 32, 32, 3)"
      ]
     },
     "execution_count": 6,
     "metadata": {},
     "output_type": "execute_result"
    }
   ],
   "source": [
    "basepath = os.path.sep.join(['HousesDataset', \"{}_*\".format(1)])\n",
    "imgPaths = sorted(list(glob.glob(basepath)))\n",
    "inputImages = []\n",
    "for imgPath in imgPaths:\n",
    "    image = cv2.resize(cv2.imread(imgPath), (32, 32))\n",
    "    inputImages.append(image)\n",
    "np.shape(inputImages)"
   ]
  },
  {
   "cell_type": "code",
   "execution_count": 7,
   "metadata": {},
   "outputs": [],
   "source": [
    "images = []\n",
    "for i in data.index.values:\n",
    "    basepath = os.path.sep.join(['HousesDataset', \"{}_*\".format(i + 1)])\n",
    "    imgPaths = sorted(list(glob.glob(basepath)))\n",
    "    inputImages = []\n",
    "    for imgPath in imgPaths:\n",
    "        image = cv2.resize(cv2.imread(imgPath), (32, 32))\n",
    "        inputImages.append(image)\n",
    "    outputImage = np.zeros((64, 64, 3), dtype='uint8')\n",
    "    outputImage[0:32, 0:32] = inputImages[0]\n",
    "    outputImage[0:32, 32:64] = inputImages[1]\n",
    "    outputImage[32:64, 32:64] = inputImages[2]\n",
    "    outputImage[32:64, 0:32] = inputImages[3]\n",
    "    images.append(outputImage)"
   ]
  },
  {
   "cell_type": "code",
   "execution_count": 8,
   "metadata": {},
   "outputs": [
    {
     "data": {
      "text/plain": [
       "(535, 64, 64, 3)"
      ]
     },
     "execution_count": 8,
     "metadata": {},
     "output_type": "execute_result"
    }
   ],
   "source": [
    "images = np.array(images)\n",
    "images.shape"
   ]
  },
  {
   "cell_type": "code",
   "execution_count": 9,
   "metadata": {},
   "outputs": [
    {
     "data": {
      "text/plain": [
       "<matplotlib.image.AxesImage at 0x236c79164c0>"
      ]
     },
     "execution_count": 9,
     "metadata": {},
     "output_type": "execute_result"
    },
    {
     "data": {
      "image/png": "[encoded data removed]",
      "text/plain": [
       "<Figure size 640x480 with 1 Axes>"
      ]
     },
     "metadata": {},
     "output_type": "display_data"
    }
   ],
   "source": [
    "plt.imshow(images[100][..., ::-1])"
   ]
  },
  {
   "cell_type": "code",
   "execution_count": 10,
   "metadata": {},
   "outputs": [],
   "source": [
    "X_train, X_test, IX_train, IX_test = train_test_split(data, images, random_state=523)"
   ]
  },
  {
   "cell_type": "code",
   "execution_count": 11,
   "metadata": {},
   "outputs": [],
   "source": [
    "maxPrice = X_train['price'].max()\n",
    "y_train = X_train['price'] / maxPrice\n",
    "y_test = X_test['price'] / maxPrice"
   ]
  },
  {
   "cell_type": "code",
   "execution_count": 12,
   "metadata": {},
   "outputs": [],
   "source": [
    "from tensorflow.keras.models import Model, Sequential\n",
    "from tensorflow.keras.layers import concatenate, Input, Conv2D, MaxPooling2D, Activation, Dense, Flatten, Dropout, BatchNormalization"
   ]
  },
  {
   "cell_type": "code",
   "execution_count": 13,
   "metadata": {},
   "outputs": [],
   "source": [
    "input1 = Input(shape=(64, 64, 3))\n",
    "conv1 = Conv2D(16, (3, 3), padding='same', activation='relu')(input1)\n",
    "batchnorm1 = BatchNormalization(axis=-1)(conv1)\n",
    "maxpool1 = MaxPooling2D(pool_size=(2, 2))(batchnorm1)\n",
    "conv2 = Conv2D(32, (3, 3), padding='same', activation='relu')(maxpool1)\n",
    "batchnorm2 = BatchNormalization(axis=-1)(conv2)\n",
    "maxpool2 = MaxPooling2D(pool_size=(2, 2))(batchnorm2)\n",
    "conv3 = Conv2D(64, (3, 3), padding='same', activation='relu')(maxpool2)\n",
    "batchnorm3 = BatchNormalization(axis=-1)(conv3)\n",
    "maxpool3 = MaxPooling2D(pool_size=(2, 2))(batchnorm3)\n",
    "flatten1 = Flatten()(maxpool3)\n",
    "dense1 = Dense(32, activation='relu')(flatten1)\n",
    "batchnorm4 = BatchNormalization(axis=-1)(dense1)\n",
    "dropout1 = Dropout(0.5)(batchnorm4)\n",
    "dense2 = Dense(16, activation='relu')(dropout1)"
   ]
  },
  {
   "cell_type": "code",
   "execution_count": 14,
   "metadata": {},
   "outputs": [],
   "source": [
    "m1 = Model(input1, dense2)"
   ]
  },
  {
   "cell_type": "code",
   "execution_count": 15,
   "metadata": {},
   "outputs": [
    {
     "name": "stdout",
     "output_type": "stream",
     "text": [
      "Model: \"model\"\n",
      "_________________________________________________________________\n",
      " Layer (type)                Output Shape              Param #   \n",
      "=================================================================\n",
      " input_1 (InputLayer)        [(None, 64, 64, 3)]       0         \n",
      "                                                                 \n",
      " conv2d (Conv2D)             (None, 64, 64, 16)        448       \n",
      "                                                                 \n",
      " batch_normalization (BatchN  (None, 64, 64, 16)       64        \n",
      " ormalization)                                                   \n",
      "                                                                 \n",
      " max_pooling2d (MaxPooling2D  (None, 32, 32, 16)       0         \n",
      " )                                                               \n",
      "                                                                 \n",
      " conv2d_1 (Conv2D)           (None, 32, 32, 32)        4640      \n",
      "                                                                 \n",
      " batch_normalization_1 (Batc  (None, 32, 32, 32)       128       \n",
      " hNormalization)                                                 \n",
      "                                                                 \n",
      " max_pooling2d_1 (MaxPooling  (None, 16, 16, 32)       0         \n",
      " 2D)                                                             \n",
      "                                                                 \n",
      " conv2d_2 (Conv2D)           (None, 16, 16, 64)        18496     \n",
      "                                                                 \n",
      " batch_normalization_2 (Batc  (None, 16, 16, 64)       256       \n",
      " hNormalization)                                                 \n",
      "                                                                 \n",
      " max_pooling2d_2 (MaxPooling  (None, 8, 8, 64)         0         \n",
      " 2D)                                                             \n",
      "                                                                 \n",
      " flatten (Flatten)           (None, 4096)              0         \n",
      "                                                                 \n",
      " dense (Dense)               (None, 32)                131104    \n",
      "                                                                 \n",
      " batch_normalization_3 (Batc  (None, 32)               128       \n",
      " hNormalization)                                                 \n",
      "                                                                 \n",
      " dropout (Dropout)           (None, 32)                0         \n",
      "                                                                 \n",
      " dense_1 (Dense)             (None, 16)                528       \n",
      "                                                                 \n",
      "=================================================================\n",
      "Total params: 155,792\n",
      "Trainable params: 155,504\n",
      "Non-trainable params: 288\n",
      "_________________________________________________________________\n"
     ]
    }
   ],
   "source": [
    "m1.summary()"
   ]
  },
  {
   "cell_type": "code",
   "execution_count": 16,
   "metadata": {},
   "outputs": [],
   "source": [
    "ss = StandardScaler()\n",
    "XT = ss.fit_transform(X_train[['bedrooms', 'bathrooms', 'area']])\n",
    "Xt = ss.transform(X_test[['bedrooms', 'bathrooms', 'area']])"
   ]
  },
  {
   "cell_type": "code",
   "execution_count": 17,
   "metadata": {},
   "outputs": [],
   "source": [
    "lb = LabelBinarizer()\n",
    "lb.fit(data['zipcode'])\n",
    "XTz = lb.transform(X_train['zipcode'])\n",
    "Xtz = lb.transform(X_test['zipcode'])"
   ]
  },
  {
   "cell_type": "code",
   "execution_count": 18,
   "metadata": {},
   "outputs": [
    {
     "data": {
      "text/plain": [
       "array([0, 0, 0, 0, 0, 0, 0, 0, 0, 0, 0, 0, 0, 0, 0, 0, 0, 0, 0, 0, 0, 0,\n",
       "       0, 0, 0, 0, 0, 0, 0, 0, 0, 0, 0, 1, 0, 0, 0, 0, 0, 0, 0, 0, 0, 0,\n",
       "       0, 0, 0, 0, 0])"
      ]
     },
     "execution_count": 18,
     "metadata": {},
     "output_type": "execute_result"
    }
   ],
   "source": [
    "XTz[100]"
   ]
  },
  {
   "cell_type": "code",
   "execution_count": 19,
   "metadata": {},
   "outputs": [],
   "source": [
    "XT = np.hstack([XT, XTz])\n",
    "Xt = np.hstack([Xt, Xtz])"
   ]
  },
  {
   "cell_type": "code",
   "execution_count": 20,
   "metadata": {},
   "outputs": [
    {
     "data": {
      "text/plain": [
       "array([0.51790082, 0.32814078, 0.36211477, 0.        , 0.        ,\n",
       "       0.        , 0.        , 0.        , 0.        , 0.        ,\n",
       "       0.        , 0.        , 0.        , 0.        , 0.        ,\n",
       "       0.        , 0.        , 0.        , 0.        , 0.        ,\n",
       "       0.        , 0.        , 0.        , 0.        , 0.        ,\n",
       "       1.        , 0.        , 0.        , 0.        , 0.        ,\n",
       "       0.        , 0.        , 0.        , 0.        , 0.        ,\n",
       "       0.        , 0.        , 0.        , 0.        , 0.        ,\n",
       "       0.        , 0.        , 0.        , 0.        , 0.        ,\n",
       "       0.        , 0.        , 0.        , 0.        , 0.        ,\n",
       "       0.        , 0.        ])"
      ]
     },
     "execution_count": 20,
     "metadata": {},
     "output_type": "execute_result"
    }
   ],
   "source": [
    "XT[0]"
   ]
  },
  {
   "cell_type": "code",
   "execution_count": 21,
   "metadata": {},
   "outputs": [
    {
     "data": {
      "text/plain": [
       "(401, 52)"
      ]
     },
     "execution_count": 21,
     "metadata": {},
     "output_type": "execute_result"
    }
   ],
   "source": [
    "XT.shape"
   ]
  },
  {
   "cell_type": "code",
   "execution_count": 22,
   "metadata": {},
   "outputs": [],
   "source": [
    "m2 = Sequential()\n",
    "m2.add(Dense(16, activation='relu', input_dim=52))\n",
    "m2.add(Dropout(0.5))\n",
    "m2.add(Dense(8, activation='relu'))\n",
    "m2.add(Dense(4, activation='relu'))"
   ]
  },
  {
   "cell_type": "code",
   "execution_count": 23,
   "metadata": {},
   "outputs": [
    {
     "name": "stdout",
     "output_type": "stream",
     "text": [
      "Model: \"sequential\"\n",
      "_________________________________________________________________\n",
      " Layer (type)                Output Shape              Param #   \n",
      "=================================================================\n",
      " dense_2 (Dense)             (None, 16)                848       \n",
      "                                                                 \n",
      " dropout_1 (Dropout)         (None, 16)                0         \n",
      "                                                                 \n",
      " dense_3 (Dense)             (None, 8)                 136       \n",
      "                                                                 \n",
      " dense_4 (Dense)             (None, 4)                 36        \n",
      "                                                                 \n",
      "=================================================================\n",
      "Total params: 1,020\n",
      "Trainable params: 1,020\n",
      "Non-trainable params: 0\n",
      "_________________________________________________________________\n"
     ]
    }
   ],
   "source": [
    "m2.summary()"
   ]
  },
  {
   "cell_type": "code",
   "execution_count": 24,
   "metadata": {},
   "outputs": [],
   "source": [
    "combinedModel = concatenate([m2.output, m1.output])"
   ]
  },
  {
   "cell_type": "code",
   "execution_count": 25,
   "metadata": {},
   "outputs": [],
   "source": [
    "densef1 = Dense(8, activation='relu')(combinedModel)\n",
    "densef2 = Dense(1, activation='linear')(densef1)\n",
    "model = Model(inputs=[m2.input, m1.input], outputs=densef2)"
   ]
  },
  {
   "cell_type": "code",
   "execution_count": 26,
   "metadata": {},
   "outputs": [
    {
     "name": "stdout",
     "output_type": "stream",
     "text": [
      "Model: \"model_1\"\n",
      "__________________________________________________________________________________________________\n",
      " Layer (type)                   Output Shape         Param #     Connected to                     \n",
      "==================================================================================================\n",
      " input_1 (InputLayer)           [(None, 64, 64, 3)]  0           []                               \n",
      "                                                                                                  \n",
      " conv2d (Conv2D)                (None, 64, 64, 16)   448         ['input_1[0][0]']                \n",
      "                                                                                                  \n",
      " batch_normalization (BatchNorm  (None, 64, 64, 16)  64          ['conv2d[0][0]']                 \n",
      " alization)                                                                                       \n",
      "                                                                                                  \n",
      " max_pooling2d (MaxPooling2D)   (None, 32, 32, 16)   0           ['batch_normalization[0][0]']    \n",
      "                                                                                                  \n",
      " conv2d_1 (Conv2D)              (None, 32, 32, 32)   4640        ['max_pooling2d[0][0]']          \n",
      "                                                                                                  \n",
      " batch_normalization_1 (BatchNo  (None, 32, 32, 32)  128         ['conv2d_1[0][0]']               \n",
      " rmalization)                                                                                     \n",
      "                                                                                                  \n",
      " max_pooling2d_1 (MaxPooling2D)  (None, 16, 16, 32)  0           ['batch_normalization_1[0][0]']  \n",
      "                                                                                                  \n",
      " conv2d_2 (Conv2D)              (None, 16, 16, 64)   18496       ['max_pooling2d_1[0][0]']        \n",
      "                                                                                                  \n",
      " batch_normalization_2 (BatchNo  (None, 16, 16, 64)  256         ['conv2d_2[0][0]']               \n",
      " rmalization)                                                                                     \n",
      "                                                                                                  \n",
      " max_pooling2d_2 (MaxPooling2D)  (None, 8, 8, 64)    0           ['batch_normalization_2[0][0]']  \n",
      "                                                                                                  \n",
      " dense_2_input (InputLayer)     [(None, 52)]         0           []                               \n",
      "                                                                                                  \n",
      " flatten (Flatten)              (None, 4096)         0           ['max_pooling2d_2[0][0]']        \n",
      "                                                                                                  \n",
      " dense_2 (Dense)                (None, 16)           848         ['dense_2_input[0][0]']          \n",
      "                                                                                                  \n",
      " dense (Dense)                  (None, 32)           131104      ['flatten[0][0]']                \n",
      "                                                                                                  \n",
      " dropout_1 (Dropout)            (None, 16)           0           ['dense_2[0][0]']                \n",
      "                                                                                                  \n",
      " batch_normalization_3 (BatchNo  (None, 32)          128         ['dense[0][0]']                  \n",
      " rmalization)                                                                                     \n",
      "                                                                                                  \n",
      " dense_3 (Dense)                (None, 8)            136         ['dropout_1[0][0]']              \n",
      "                                                                                                  \n",
      " dropout (Dropout)              (None, 32)           0           ['batch_normalization_3[0][0]']  \n",
      "                                                                                                  \n",
      " dense_4 (Dense)                (None, 4)            36          ['dense_3[0][0]']                \n",
      "                                                                                                  \n",
      " dense_1 (Dense)                (None, 16)           528         ['dropout[0][0]']                \n",
      "                                                                                                  \n",
      " concatenate (Concatenate)      (None, 20)           0           ['dense_4[0][0]',                \n",
      "                                                                  'dense_1[0][0]']                \n",
      "                                                                                                  \n",
      " dense_5 (Dense)                (None, 8)            168         ['concatenate[0][0]']            \n",
      "                                                                                                  \n",
      " dense_6 (Dense)                (None, 1)            9           ['dense_5[0][0]']                \n",
      "                                                                                                  \n",
      "==================================================================================================\n",
      "Total params: 156,989\n",
      "Trainable params: 156,701\n",
      "Non-trainable params: 288\n",
      "__________________________________________________________________________________________________\n"
     ]
    }
   ],
   "source": [
    "model.summary()"
   ]
  },
  {
   "cell_type": "code",
   "execution_count": 27,
   "metadata": {},
   "outputs": [],
   "source": [
    "from tensorflow.keras.utils import plot_model"
   ]
  },
  {
   "cell_type": "code",
   "execution_count": 28,
   "metadata": {
    "scrolled": true
   },
   "outputs": [
    {
     "data": {
      "image/png": "[encoded data removed]",
      "text/plain": [
       "<IPython.core.display.Image object>"
      ]
     },
     "execution_count": 28,
     "metadata": {},
     "output_type": "execute_result"
    }
   ],
   "source": [
    "plot_model(model, show_shapes=True)"
   ]
  },
  {
   "cell_type": "code",
   "execution_count": 29,
   "metadata": {},
   "outputs": [],
   "source": [
    "model.compile(loss='mean_absolute_error', optimizer='adam')"
   ]
  },
  {
   "cell_type": "code",
   "execution_count": 30,
   "metadata": {},
   "outputs": [
    {
     "name": "stdout",
     "output_type": "stream",
     "text": [
      "Epoch 1/100\n",
      "41/41 [==============================] - 19s 449ms/step - loss: 0.2875 - val_loss: 0.3871\n",
      "Epoch 2/100\n",
      "41/41 [==============================] - 18s 432ms/step - loss: 0.1495 - val_loss: 0.1030\n",
      "Epoch 3/100\n",
      "41/41 [==============================] - 18s 438ms/step - loss: 0.1063 - val_loss: 0.0984\n",
      "Epoch 4/100\n",
      "41/41 [==============================] - 18s 437ms/step - loss: 0.0959 - val_loss: 0.0867\n",
      "Epoch 5/100\n",
      "41/41 [==============================] - 19s 464ms/step - loss: 0.0896 - val_loss: 0.0839\n",
      "Epoch 6/100\n",
      "41/41 [==============================] - 18s 449ms/step - loss: 0.0813 - val_loss: 0.0783\n",
      "Epoch 7/100\n",
      "41/41 [==============================] - 19s 459ms/step - loss: 0.0746 - val_loss: 0.0751\n",
      "Epoch 8/100\n",
      "41/41 [==============================] - 19s 460ms/step - loss: 0.0746 - val_loss: 0.0737\n",
      "Epoch 9/100\n",
      "41/41 [==============================] - 19s 455ms/step - loss: 0.0713 - val_loss: 0.0721\n",
      "Epoch 10/100\n",
      "41/41 [==============================] - 19s 465ms/step - loss: 0.0665 - val_loss: 0.0695\n",
      "Epoch 11/100\n",
      "41/41 [==============================] - 19s 454ms/step - loss: 0.0667 - val_loss: 0.0656\n",
      "Epoch 12/100\n",
      "41/41 [==============================] - 19s 454ms/step - loss: 0.0608 - val_loss: 0.0640\n",
      "Epoch 13/100\n",
      "41/41 [==============================] - 19s 455ms/step - loss: 0.0597 - val_loss: 0.0626\n",
      "Epoch 14/100\n",
      "41/41 [==============================] - 19s 456ms/step - loss: 0.0590 - val_loss: 0.0607\n",
      "Epoch 15/100\n",
      "41/41 [==============================] - 19s 457ms/step - loss: 0.0549 - val_loss: 0.0602\n",
      "Epoch 16/100\n",
      "41/41 [==============================] - 18s 448ms/step - loss: 0.0556 - val_loss: 0.0582\n",
      "Epoch 17/100\n",
      "41/41 [==============================] - 18s 451ms/step - loss: 0.0524 - val_loss: 0.0568\n",
      "Epoch 18/100\n",
      "41/41 [==============================] - 13s 312ms/step - loss: 0.0503 - val_loss: 0.0567\n",
      "Epoch 19/100\n",
      "41/41 [==============================] - 10s 254ms/step - loss: 0.0504 - val_loss: 0.0547\n",
      "Epoch 20/100\n",
      "41/41 [==============================] - 9s 216ms/step - loss: 0.0483 - val_loss: 0.0537\n",
      "Epoch 21/100\n",
      "41/41 [==============================] - 1s 23ms/step - loss: 0.0496 - val_loss: 0.0540\n",
      "Epoch 22/100\n",
      "41/41 [==============================] - 1s 21ms/step - loss: 0.0465 - val_loss: 0.0530\n",
      "Epoch 23/100\n",
      "41/41 [==============================] - 1s 29ms/step - loss: 0.0489 - val_loss: 0.0517\n",
      "Epoch 24/100\n",
      "41/41 [==============================] - 1s 25ms/step - loss: 0.0467 - val_loss: 0.0519\n",
      "Epoch 25/100\n",
      "41/41 [==============================] - 5s 105ms/step - loss: 0.0486 - val_loss: 0.0533\n",
      "Epoch 26/100\n",
      "41/41 [==============================] - 2s 37ms/step - loss: 0.0452 - val_loss: 0.0518\n",
      "Epoch 27/100\n",
      "41/41 [==============================] - 1s 22ms/step - loss: 0.0433 - val_loss: 0.0512\n",
      "Epoch 28/100\n",
      "41/41 [==============================] - 1s 24ms/step - loss: 0.0431 - val_loss: 0.0504\n",
      "Epoch 29/100\n",
      "41/41 [==============================] - 20s 499ms/step - loss: 0.0440 - val_loss: 0.0499\n",
      "Epoch 30/100\n",
      "41/41 [==============================] - 20s 476ms/step - loss: 0.0435 - val_loss: 0.0499\n",
      "Epoch 31/100\n",
      "41/41 [==============================] - 19s 466ms/step - loss: 0.0413 - val_loss: 0.0497\n",
      "Epoch 32/100\n",
      "41/41 [==============================] - 19s 459ms/step - loss: 0.0386 - val_loss: 0.0490\n",
      "Epoch 33/100\n",
      "41/41 [==============================] - 19s 467ms/step - loss: 0.0419 - val_loss: 0.0495\n",
      "Epoch 34/100\n",
      "41/41 [==============================] - 19s 469ms/step - loss: 0.0407 - val_loss: 0.0487\n",
      "Epoch 35/100\n",
      "41/41 [==============================] - 19s 476ms/step - loss: 0.0412 - val_loss: 0.0485\n",
      "Epoch 36/100\n",
      "41/41 [==============================] - 19s 475ms/step - loss: 0.0400 - val_loss: 0.0506\n",
      "Epoch 37/100\n",
      "41/41 [==============================] - 19s 460ms/step - loss: 0.0384 - val_loss: 0.0483\n",
      "Epoch 38/100\n",
      "41/41 [==============================] - 20s 474ms/step - loss: 0.0372 - val_loss: 0.0481\n",
      "Epoch 39/100\n",
      "41/41 [==============================] - 19s 468ms/step - loss: 0.0388 - val_loss: 0.0484\n",
      "Epoch 40/100\n",
      "41/41 [==============================] - 19s 471ms/step - loss: 0.0375 - val_loss: 0.0480\n",
      "Epoch 41/100\n",
      "41/41 [==============================] - 20s 477ms/step - loss: 0.0387 - val_loss: 0.0482\n",
      "Epoch 42/100\n",
      "41/41 [==============================] - 19s 465ms/step - loss: 0.0376 - val_loss: 0.0481\n",
      "Epoch 43/100\n",
      "41/41 [==============================] - 19s 464ms/step - loss: 0.0365 - val_loss: 0.0476\n",
      "Epoch 44/100\n",
      "41/41 [==============================] - 21s 511ms/step - loss: 0.0377 - val_loss: 0.0486\n",
      "Epoch 45/100\n",
      "41/41 [==============================] - 10s 237ms/step - loss: 0.0382 - val_loss: 0.0483\n",
      "Epoch 46/100\n",
      "41/41 [==============================] - 16s 405ms/step - loss: 0.0360 - val_loss: 0.0467\n",
      "Epoch 47/100\n",
      "41/41 [==============================] - 14s 344ms/step - loss: 0.0349 - val_loss: 0.0471\n",
      "Epoch 48/100\n",
      "41/41 [==============================] - 10s 242ms/step - loss: 0.0334 - val_loss: 0.0470\n",
      "Epoch 49/100\n",
      "41/41 [==============================] - 9s 224ms/step - loss: 0.0362 - val_loss: 0.0477\n",
      "Epoch 50/100\n",
      "41/41 [==============================] - 10s 247ms/step - loss: 0.0361 - val_loss: 0.0492\n",
      "Epoch 51/100\n",
      "41/41 [==============================] - 6s 150ms/step - loss: 0.0319 - val_loss: 0.0477\n",
      "Epoch 52/100\n",
      "41/41 [==============================] - 1s 15ms/step - loss: 0.0336 - val_loss: 0.0463\n",
      "Epoch 53/100\n",
      "41/41 [==============================] - 2s 50ms/step - loss: 0.0334 - val_loss: 0.0467\n",
      "Epoch 54/100\n",
      "41/41 [==============================] - 1s 26ms/step - loss: 0.0323 - val_loss: 0.0472\n",
      "Epoch 55/100\n",
      "41/41 [==============================] - 1s 20ms/step - loss: 0.0315 - val_loss: 0.0463\n",
      "Epoch 56/100\n",
      "41/41 [==============================] - 1s 24ms/step - loss: 0.0331 - val_loss: 0.0467\n",
      "Epoch 57/100\n",
      "41/41 [==============================] - 3s 83ms/step - loss: 0.0309 - val_loss: 0.0471\n",
      "Epoch 58/100\n",
      "41/41 [==============================] - 1s 28ms/step - loss: 0.0326 - val_loss: 0.0459\n",
      "Epoch 59/100\n",
      "41/41 [==============================] - 1s 32ms/step - loss: 0.0319 - val_loss: 0.0470\n",
      "Epoch 60/100\n",
      "41/41 [==============================] - 1s 25ms/step - loss: 0.0323 - val_loss: 0.0493\n",
      "Epoch 61/100\n",
      "41/41 [==============================] - 1s 16ms/step - loss: 0.0297 - val_loss: 0.0503\n",
      "Epoch 62/100\n",
      "41/41 [==============================] - 1s 25ms/step - loss: 0.0305 - val_loss: 0.0484\n",
      "Epoch 63/100\n",
      "41/41 [==============================] - 1s 16ms/step - loss: 0.0285 - val_loss: 0.0484\n",
      "Epoch 64/100\n",
      "41/41 [==============================] - 1s 21ms/step - loss: 0.0313 - val_loss: 0.0454\n",
      "Epoch 65/100\n",
      "41/41 [==============================] - 7s 164ms/step - loss: 0.0304 - val_loss: 0.0478\n",
      "Epoch 66/100\n",
      "41/41 [==============================] - 16s 381ms/step - loss: 0.0316 - val_loss: 0.0474\n",
      "Epoch 67/100\n",
      "41/41 [==============================] - 19s 462ms/step - loss: 0.0286 - val_loss: 0.0475\n",
      "Epoch 68/100\n",
      "41/41 [==============================] - 20s 478ms/step - loss: 0.0290 - val_loss: 0.0483\n",
      "Epoch 69/100\n",
      "41/41 [==============================] - 20s 477ms/step - loss: 0.0291 - val_loss: 0.0464\n",
      "Epoch 70/100\n",
      "41/41 [==============================] - 19s 460ms/step - loss: 0.0305 - val_loss: 0.0466\n",
      "Epoch 71/100\n",
      "41/41 [==============================] - 19s 464ms/step - loss: 0.0292 - val_loss: 0.0461\n",
      "Epoch 72/100\n",
      "41/41 [==============================] - 19s 466ms/step - loss: 0.0296 - val_loss: 0.0491\n",
      "Epoch 73/100\n",
      "41/41 [==============================] - 19s 471ms/step - loss: 0.0302 - val_loss: 0.0449\n",
      "Epoch 74/100\n",
      "41/41 [==============================] - 19s 472ms/step - loss: 0.0308 - val_loss: 0.0463\n",
      "Epoch 75/100\n",
      "41/41 [==============================] - 19s 467ms/step - loss: 0.0307 - val_loss: 0.0474\n",
      "Epoch 76/100\n",
      "41/41 [==============================] - 19s 468ms/step - loss: 0.0284 - val_loss: 0.0479\n",
      "Epoch 77/100\n",
      "41/41 [==============================] - 19s 456ms/step - loss: 0.0297 - val_loss: 0.0484\n",
      "Epoch 78/100\n",
      "41/41 [==============================] - 19s 464ms/step - loss: 0.0292 - val_loss: 0.0498\n",
      "Epoch 79/100\n",
      "41/41 [==============================] - 19s 463ms/step - loss: 0.0287 - val_loss: 0.0478\n",
      "Epoch 80/100\n",
      "41/41 [==============================] - 19s 469ms/step - loss: 0.0284 - val_loss: 0.0500\n",
      "Epoch 81/100\n",
      "41/41 [==============================] - 19s 472ms/step - loss: 0.0279 - val_loss: 0.0477\n",
      "Epoch 82/100\n",
      "41/41 [==============================] - 19s 462ms/step - loss: 0.0272 - val_loss: 0.0450\n",
      "Epoch 83/100\n",
      "41/41 [==============================] - 19s 468ms/step - loss: 0.0285 - val_loss: 0.0472\n",
      "Epoch 84/100\n",
      "41/41 [==============================] - 19s 471ms/step - loss: 0.0298 - val_loss: 0.0478\n",
      "Epoch 85/100\n",
      "41/41 [==============================] - 19s 461ms/step - loss: 0.0278 - val_loss: 0.0476\n",
      "Epoch 86/100\n",
      "41/41 [==============================] - 19s 465ms/step - loss: 0.0261 - val_loss: 0.0463\n",
      "Epoch 87/100\n",
      "41/41 [==============================] - 16s 394ms/step - loss: 0.0281 - val_loss: 0.0482\n",
      "Epoch 88/100\n",
      "41/41 [==============================] - 10s 251ms/step - loss: 0.0302 - val_loss: 0.0484\n",
      "Epoch 89/100\n",
      "41/41 [==============================] - 10s 251ms/step - loss: 0.0267 - val_loss: 0.0466\n",
      "Epoch 90/100\n",
      "41/41 [==============================] - 1s 27ms/step - loss: 0.0288 - val_loss: 0.0465\n",
      "Epoch 91/100\n",
      "41/41 [==============================] - 1s 22ms/step - loss: 0.0260 - val_loss: 0.0480\n",
      "Epoch 92/100\n",
      "41/41 [==============================] - 1s 32ms/step - loss: 0.0252 - val_loss: 0.0471\n",
      "Epoch 93/100\n",
      "41/41 [==============================] - 2s 51ms/step - loss: 0.0292 - val_loss: 0.0473\n",
      "Epoch 94/100\n",
      "41/41 [==============================] - 10s 251ms/step - loss: 0.0249 - val_loss: 0.0482\n",
      "Epoch 95/100\n",
      "41/41 [==============================] - 10s 249ms/step - loss: 0.0258 - val_loss: 0.0486\n",
      "Epoch 96/100\n",
      "41/41 [==============================] - 10s 245ms/step - loss: 0.0260 - val_loss: 0.0496\n",
      "Epoch 97/100\n",
      "41/41 [==============================] - 10s 255ms/step - loss: 0.0268 - val_loss: 0.0521\n",
      "Epoch 98/100\n",
      "41/41 [==============================] - 11s 262ms/step - loss: 0.0281 - val_loss: 0.0486\n",
      "Epoch 99/100\n",
      "41/41 [==============================] - 10s 253ms/step - loss: 0.0287 - val_loss: 0.0455\n",
      "Epoch 100/100\n",
      "41/41 [==============================] - 19s 464ms/step - loss: 0.0258 - val_loss: 0.0467\n"
     ]
    },
    {
     "data": {
      "text/plain": [
       "<keras.callbacks.History at 0x236d05089a0>"
      ]
     },
     "execution_count": 30,
     "metadata": {},
     "output_type": "execute_result"
    }
   ],
   "source": [
    "model.fit([XT, IX_train], y_train, validation_data=([Xt, IX_test], y_test), epochs=100, batch_size=10)"
   ]
  },
  {
   "cell_type": "code",
   "execution_count": 31,
   "metadata": {},
   "outputs": [
    {
     "name": "stdout",
     "output_type": "stream",
     "text": [
      "5/5 [==============================] - 0s 10ms/step\n"
     ]
    }
   ],
   "source": [
    "predicts = model.predict([Xt, IX_test]) * maxPrice"
   ]
  },
  {
   "cell_type": "code",
   "execution_count": 32,
   "metadata": {},
   "outputs": [
    {
     "data": {
      "text/plain": [
       "array([ 813190.2217865 ,  479445.39785385,  233668.14851761,\n",
       "        517605.84115982,  475939.33343887,  660313.01021576,\n",
       "        112116.17290974,  110884.01079178,  796596.40789032,\n",
       "        534335.49404144,  333725.81005096,  650085.09159088,\n",
       "        109365.32914639,  437612.80179024,  145068.70508194,\n",
       "        461295.24707794,  598027.82535553,  245821.37167454,\n",
       "        524921.05960846,  118811.5477562 , 1405163.52653503,\n",
       "       1233155.60817719,  462169.70682144,  498471.2600708 ,\n",
       "        951737.64228821,  364012.24136353,  506579.39910889,\n",
       "        437970.37005424,  486968.30868721,  105386.27207279,\n",
       "       1088735.22281647,  332665.80104828,  442091.40539169,\n",
       "        429183.72154236,  515532.01675415,  659440.81544876,\n",
       "        456419.52753067,   86112.55884171,  548764.2288208 ,\n",
       "        488574.14722443,  157583.9817524 ,  160933.73298645,\n",
       "        391912.57953644,  487828.88054848, 1056303.50112915,\n",
       "        952590.94238281,  429261.41619682, 1337189.43595886,\n",
       "        386305.98783493,  356729.20942307,  667128.08609009,\n",
       "        615245.99790573,  453617.39397049,  512248.03924561,\n",
       "        892984.03263092,  642544.62718964,  135108.20269585,\n",
       "        289189.69631195,  605770.46871185,  271283.09011459,\n",
       "        340521.9912529 , 1122650.26569366,  946179.15153503,\n",
       "        350608.28924179,  637717.12779999,  292750.5671978 ,\n",
       "        433094.53129768,  513209.2833519 ,  518656.01539612,\n",
       "        919265.27023315,  620565.41442871,  747883.31985474,\n",
       "        844025.13504028,  474278.50961685,  593311.78665161,\n",
       "         99311.84351444,  842329.38289642,  576464.65301514,\n",
       "        300208.65797997,  893367.52891541,  108371.2130785 ,\n",
       "        144584.05971527,  918634.41467285,  491041.77951813,\n",
       "        395981.37140274,  477830.82723618,  458210.76631546,\n",
       "        986200.92868805,  502888.5602951 ,  431903.5410881 ,\n",
       "        830607.41424561,  759816.52736664,  530315.51837921,\n",
       "        107341.05110168,  499478.60836983,  772350.3112793 ,\n",
       "        728557.46746063,  565493.28565598,  469675.92835426,\n",
       "        566003.68022919,  887207.62729645,  551393.74732971,\n",
       "        792150.13980865,  462924.74865913,  118490.36812782,\n",
       "        689035.77327728,  147129.01413441,  587604.93993759,\n",
       "        513514.87636566,  177984.25257206,  678720.1166153 ,\n",
       "        751792.90771484,  139054.71563339,   75197.10063934,\n",
       "        385127.42519379,  612470.09038925,  355320.4536438 ,\n",
       "        472092.03243256,  301732.83815384,  510225.71325302,\n",
       "        762561.14244461,  153677.46353149,  178202.86750793,\n",
       "       1064012.64667511, 1054323.79245758,  227760.65766811,\n",
       "        277815.40155411,  496505.76710701,  484416.18680954,\n",
       "        550242.30480194,  624180.55534363,  798185.46772003,\n",
       "        509342.67044067,  229763.7462616 ])"
      ]
     },
     "execution_count": 32,
     "metadata": {},
     "output_type": "execute_result"
    }
   ],
   "source": [
    "predicts.flatten()"
   ]
  },
  {
   "cell_type": "code",
   "execution_count": 33,
   "metadata": {},
   "outputs": [
    {
     "data": {
      "text/plain": [
       "array([1039000.,  529800.,  184900.,  569950.,  309900.,  529000.,\n",
       "         99000.,   69900., 1495000.,  557000.,  335000.,  547900.,\n",
       "         74900.,  144900.,  117500.,  399900.,  455000.,  214900.,\n",
       "        699000.,  104900.,  869000., 3850000., 5858000.,  499000.,\n",
       "        895000.,  219500.,  599500.,  449000.,  500000.,  103500.,\n",
       "        519200.,  664900.,  538000.,  449000.,  599999.,  649000.,\n",
       "        310000.,   69500.,  479000.,  435000.,   97500.,  400000.,\n",
       "        360000.,  567000., 1039000., 1327685.,  619000., 2150000.,\n",
       "        458000.,  445000.,  629000.,  649000.,  549950.,  539900.,\n",
       "        599999.,  695000.,  147000.,  310000.,  599000.,  385000.,\n",
       "        259000.,  700000., 1195000.,  429900.,  639000.,  245000.,\n",
       "        525000.,  710000.,  579000.,  925000.,  644900.,  895000.,\n",
       "        750000.,  549999.,  625000.,  117000.,  962500.,  521500.,\n",
       "        235000., 1500000.,   69900.,  135000.,  725000.,  529999.,\n",
       "        389900.,  365000., 1299000., 1294000.,  530000.,  534888.,\n",
       "        875000.,  889000.,  699800.,   50000.,  450000.,  625000.,\n",
       "        649900.,  409900.,  339000.,  725000., 1290000.,  565000.,\n",
       "       1080000.,  589900.,   94900.,  895000.,   96900.,  579500.,\n",
       "        520000.,  199000.,  619000.,  888000.,   89500.,   36000.,\n",
       "        415000.,  599000.,  240000.,  625000.,  397500.,  585000.,\n",
       "        490000.,   79500.,  324999.,  910000., 1999999.,  335000.,\n",
       "        125000.,  529900.,  525000.,  699900.,  979000.,  895000.,\n",
       "        539800.,  275000.])"
      ]
     },
     "execution_count": 33,
     "metadata": {},
     "output_type": "execute_result"
    }
   ],
   "source": [
    "y_test.values * maxPrice"
   ]
  },
  {
   "cell_type": "code",
   "execution_count": 34,
   "metadata": {},
   "outputs": [],
   "source": [
    "diff = abs(predicts.flatten() - (y_test * maxPrice))"
   ]
  },
  {
   "cell_type": "code",
   "execution_count": 35,
   "metadata": {},
   "outputs": [
    {
     "data": {
      "text/plain": [
       "11     225809.778214\n",
       "81      50354.602146\n",
       "75      48768.148518\n",
       "524     52344.158840\n",
       "436    166039.333439\n",
       "           ...      \n",
       "430    149657.695198\n",
       "92     354819.444656\n",
       "141     96814.532280\n",
       "244     30457.329559\n",
       "486     45236.253738\n",
       "Name: price, Length: 134, dtype: float64"
      ]
     },
     "execution_count": 35,
     "metadata": {},
     "output_type": "execute_result"
    }
   ],
   "source": [
    "diff"
   ]
  },
  {
   "cell_type": "code",
   "execution_count": 36,
   "metadata": {},
   "outputs": [
    {
     "data": {
      "text/plain": [
       "186939.72341885496"
      ]
     },
     "execution_count": 36,
     "metadata": {},
     "output_type": "execute_result"
    }
   ],
   "source": [
    "diff.mean()"
   ]
  },
  {
   "cell_type": "code",
   "execution_count": 37,
   "metadata": {},
   "outputs": [
    {
     "data": {
      "text/plain": [
       "589362.8112149533"
      ]
     },
     "execution_count": 37,
     "metadata": {},
     "output_type": "execute_result"
    }
   ],
   "source": [
    "data['price'].mean()"
   ]
  },
  {
   "cell_type": "code",
   "execution_count": 38,
   "metadata": {},
   "outputs": [
    {
     "data": {
      "text/plain": [
       "509026.06764905644"
      ]
     },
     "execution_count": 38,
     "metadata": {},
     "output_type": "execute_result"
    }
   ],
   "source": [
    "data['price'].std()"
   ]
  },
  {
   "cell_type": "code",
   "execution_count": 39,
   "metadata": {},
   "outputs": [],
   "source": [
    "from sklearn.metrics import r2_score, mean_absolute_error"
   ]
  },
  {
   "cell_type": "code",
   "execution_count": 40,
   "metadata": {},
   "outputs": [
    {
     "data": {
      "text/plain": [
       "0.25078453759425"
      ]
     },
     "execution_count": 40,
     "metadata": {},
     "output_type": "execute_result"
    }
   ],
   "source": [
    "r2_score(y_pred=predicts.flatten(), y_true=(y_test * maxPrice))"
   ]
  },
  {
   "cell_type": "code",
   "execution_count": 41,
   "metadata": {},
   "outputs": [
    {
     "name": "stdout",
     "output_type": "stream",
     "text": [
      "5/5 [==============================] - 0s 6ms/step\n"
     ]
    },
    {
     "data": {
      "text/plain": [
       "186939.723418855"
      ]
     },
     "execution_count": 41,
     "metadata": {},
     "output_type": "execute_result"
    }
   ],
   "source": [
    "abs(model.predict([Xt, IX_test]).flatten() - y_test).mean() * maxPrice"
   ]
  },
  {
   "cell_type": "code",
   "execution_count": null,
   "metadata": {},
   "outputs": [],
   "source": [
    "# MasoudKaviani.ir\n",
    "# Dataset: https://github.com/emanhamed/Houses-dataset"
   ]
  }
 ],
 "metadata": {
  "kernelspec": {
   "display_name": "Python 3 (ipykernel)",
   "language": "python",
   "name": "python3"
  },
  "language_info": {
   "codemirror_mode": {
    "name": "ipython",
    "version": 3
   },
   "file_extension": ".py",
   "mimetype": "text/x-python",
   "name": "python",
   "nbconvert_exporter": "python",
   "pygments_lexer": "ipython3",
   "version": "3.11.3"
  }
 },
 "nbformat": 4,
 "nbformat_minor": 4
}
